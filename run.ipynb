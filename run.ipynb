{
 "cells": [
  {
   "cell_type": "code",
   "execution_count": 1,
   "metadata": {},
   "outputs": [],
   "source": [
    "import pandas as pd\n",
    "import spacy\n",
    "import requests\n",
    "from bs4 import BeautifulSoup\n",
    "import PyPDF2\n",
    "from neo4j import GraphDatabase\n",
    "from langchain_core.runnables import (\n",
    "    RunnableBranch,\n",
    "    RunnableLambda,\n",
    "    RunnableParallel,\n",
    "    RunnablePassthrough,\n",
    ")\n",
    "from langchain_core.prompts import ChatPromptTemplate\n",
    "from langchain.graphs import Neo4jGraph\n",
    "from langchain_core.prompts.prompt import PromptTemplate\n",
    "from langchain_core.pydantic_v1 import BaseModel, Field\n",
    "from typing import Tuple, List, Optional\n",
    "from langchain_core.messages import AIMessage, HumanMessage\n",
    "from langchain_core.output_parsers import StrOutputParser\n",
    "import os\n",
    "from langchain_community.graphs import Neo4jGraph\n",
    "from langchain_community.llms import Ollama\n",
    "from langchain.text_splitter import TokenTextSplitter\n",
    "from langchain_experimental.graph_transformers import LLMGraphTransformer\n",
    "from neo4j import GraphDatabase\n",
    "from langchain_community.vectorstores import Neo4jVector\n",
    "\n",
    "from langchain_community.vectorstores.neo4j_vector import remove_lucene_chars\n",
    "from langchain_core.runnables import ConfigurableField, RunnableParallel, RunnablePassthrough\n",
    "from langchain.docstore.document import Document \n",
    "'''part of the LangChain library and is used to represent a piece of text or document data along with its metadata. \n",
    "It is a common data structure used throughout the LangChain library for storing and processing text data.\n",
    "In your code, you are using the Document class to create new Document objects from the preprocessed text data. \n",
    "Specifically, you are creating a dictionary with the page_content (the actual text content) and metadata (additional information about the text, such as the source), \n",
    "and then creating a Document object using that dictionary.'''\n",
    "from langchain.embeddings import SentenceTransformerEmbeddings\n",
    "from langchain.embeddings import HuggingFaceEmbeddings\n",
    "from py2neo import Graph\n",
    "from langchain_community.vectorstores import Neo4jVector\n",
    "from langchain.embeddings import OpenAIEmbeddings\n",
    "import os\n",
    "from langchain_experimental.llms.ollama_functions import OllamaFunctions\n",
    "from langchain_community.llms import Ollama\n",
    "from langchain_community.chat_models import ChatOllama\n",
    "from langchain.prompts import PromptTemplate\n",
    "from langchain.output_parsers import StructuredOutputParser\n",
    "from pydantic import BaseModel\n",
    "from typing import List\n"
   ]
  },
  {
   "cell_type": "code",
   "execution_count": 2,
   "metadata": {},
   "outputs": [],
   "source": [
    "URI = \"bolt://localhost:7687\"\n",
    "graph = Neo4jGraph(url=URI, username=\"neo4j\", password=\"password\")\n",
    "\n",
    "from langchain_community.document_loaders import TextLoader\n",
    "loader = TextLoader(\"hello.txt\")\n",
    "raw_documents = loader.load()\n",
    "text_splitter = TokenTextSplitter(chunk_size=512, chunk_overlap=24)\n",
    "documents = text_splitter.split_documents(raw_documents[:3])\n",
    "\n",
    "# Preprocess the documents to convert lists to tuples\n",
    "'''we create a new dictionary with the page_content and metadata keys, where the metadata key has a nested dictionary with the source key. \n",
    "We convert the source value to a tuple if it's a list, and then create a new Document object from this dictionary using the Document constructor.\n",
    "This way, we avoid using the non-existent to_dict and from_dict methods and create a new Document object with the desired structure.\n",
    "With this modification, the code should run without the AttributeError: 'Document' object has no attribute 'to_dict' error.'''\n",
    "preprocessed_documents = []\n",
    "for doc in documents:\n",
    "    data = {\n",
    "        \"page_content\": doc.page_content,\n",
    "        \"metadata\": {\n",
    "            \"source\": tuple(doc.metadata[\"source\"]) if isinstance(doc.metadata[\"source\"], list) else doc.metadata[\"source\"]\n",
    "        }\n",
    "    }\n",
    "    preprocessed_documents.append(Document(**data))\n",
    "\n",
    "\n",
    "llm = OllamaFunctions(model=\"llama3\")\n",
    "llm_transformer = LLMGraphTransformer(llm=llm)\n",
    "graph_documents = llm_transformer.convert_to_graph_documents(preprocessed_documents)\n",
    "graph.add_graph_documents(\n",
    "    graph_documents,\n",
    "    baseEntityLabel=True,\n",
    "    include_source=True\n",
    ")"
   ]
  },
  {
   "cell_type": "code",
   "execution_count": 4,
   "metadata": {},
   "outputs": [
    {
     "name": "stdout",
     "output_type": "stream",
     "text": [
      "Defaulting to user installation because normal site-packages is not writeable\n",
      "Requirement already satisfied: neo4j in /home/asura/.local/lib/python3.10/site-packages (5.20.0)\n",
      "Requirement already satisfied: pytz in /usr/lib/python3/dist-packages (from neo4j) (2022.1)\n"
     ]
    }
   ],
   "source": [
    "!pip install neo4j"
   ]
  },
  {
   "cell_type": "code",
   "execution_count": 15,
   "metadata": {},
   "outputs": [],
   "source": [
    "\n",
    "\n",
    "# Settings.embed_model = HuggingFaceEmbedding(\n",
    "#     model_name=\"BAAI/bge-small-en-v1.5\"\n",
    "# )\n",
    "from langchain_community.embeddings import OllamaEmbeddings\n",
    "\n",
    "\n",
    "embeddings = OllamaEmbeddings(model=\"mxbai-embed-large\")\n",
    "vector_index = Neo4jVector.from_existing_graph(\n",
    "    embeddings,\n",
    "    url=\"bolt://localhost:7687\",\n",
    "    username='neo4j',\n",
    "    password='password',\n",
    "    search_type=\"hybrid\",\n",
    "    node_label=\"Document\",\n",
    "    text_node_properties=[\"text\"],\n",
    "    embedding_node_property=\"embedding\"\n",
    ")\n",
    "# Retriever\n",
    "from py2neo import                        Graph\n",
    "graph=Graph('bolt://localhost:7687', name='neo4j')\n",
    "\n",
    "graph.run(\n",
    "    \"CREATE FULLTEXT INDEX entity IF NOT EXISTS FOR (e:__Entity__) ON EACH [e.id]\"\n",
    ")\n",
    "\n",
    "# Extract entities from text\n",
    "class Entities(BaseModel):\n",
    "    \"\"\"Identifying information about entities.\"\"\"\n",
    "\n",
    "    names: List[str] = Field(\n",
    "        ...,\n",
    "        description=\"All the person, organization, or business entities that \"\n",
    "        \"appear in the text\",\n",
    "    )\n",
    "\n",
    "prompt = ChatPromptTemplate.from_messages(\n",
    "    [\n",
    "        (\n",
    "            \"system\",\n",
    "            \"You are extracting organization and person entities from the text.\",\n",
    "        ),\n",
    "        (\n",
    "            \"human\",\n",
    "            \"Use the given format to extract information from the following \"\n",
    "            \"input: {question}\",\n",
    "        ),\n",
    "    ]\n",
    ")\n",
    "\n"
   ]
  },
  {
   "cell_type": "code",
   "execution_count": 16,
   "metadata": {},
   "outputs": [],
   "source": [
    "from pyvis.network import Network\n",
    "\n",
    "def showGraph(graph_documents):\n",
    "    net = Network(height=\"800px\", width=\"100%\", bgcolor=\"#222222\", font_color=\"white\")\n",
    "    \n",
    "    nodes = graph_documents[0].nodes\n",
    "    relationships = graph_documents[0].relationships\n",
    "    \n",
    "    for node in nodes:\n",
    "        net.add_node(node.id, label=node.id, title=str(node.type), color=\"skyblue\")\n",
    "    \n",
    "    for relationship in relationships:\n",
    "        net.add_edge(relationship.source.id, relationship.target.id, title=relationship.type, color=\"gray\", arrows=\"to\")\n",
    "    \n",
    "    net.repulsion()\n",
    "    \n",
    "    # Generate HTML file\n",
    "    net.write_html(\"graph.html\")"
   ]
  },
  {
   "cell_type": "code",
   "execution_count": null,
   "metadata": {},
   "outputs": [],
   "source": []
  },
  {
   "cell_type": "code",
   "execution_count": 17,
   "metadata": {},
   "outputs": [],
   "source": [
    "showGraph(graph_documents)"
   ]
  },
  {
   "cell_type": "code",
   "execution_count": 18,
   "metadata": {},
   "outputs": [],
   "source": [
    "entity_chain = prompt | llm.with_structured_output(Entities)"
   ]
  },
  {
   "cell_type": "code",
   "execution_count": 19,
   "metadata": {},
   "outputs": [],
   "source": [
    "from langchain_community.chat_models import ChatOllama\n",
    "\n",
    "llm = ChatOllama(model=\"llama3\", format=\"json\", temperature=0)"
   ]
  },
  {
   "cell_type": "code",
   "execution_count": 20,
   "metadata": {},
   "outputs": [
    {
     "name": "stdout",
     "output_type": "stream",
     "text": [
      "page_content='\\ntext:  evidence against her. Instead, on 22 May, Elizabeth was moved from the Tower to Woodstock, where she was to spend almost a year under house arrest in the charge of Henry Bedingfeld. Crowds cheered her all along the way.[37][e]\\n\\nOn 17 April 1555, Elizabeth was recalled to court to attend the final stages of Mary\\'s apparent pregnancy. If Mary and her child died, Elizabeth would become queen, but if Mary gave birth to a healthy child, Elizabeth\\'s chances of becoming queen would recede sharply. When it became clear that Mary was not pregnant, no one believed any longer that she could have a child.[39] Elizabeth\\'s succession seemed assured.[40]\\n\\nKing Philip, who ascended the Spanish throne in 1556, acknowledged the new political reality and cultivated his sister-in-law. She was a better ally than the chief alternative, Mary, Queen of Scots, who had grown up in France and was betrothed to the Dauphin of France.[41] When his wife fell ill in 1558, Philip sent the Count of Feria to consult with Elizabeth.[42] This interview was conducted at Hatfield House, where she had returned to live in October 1555. By October 1558, Elizabeth was already making plans for her government. Mary recognised Elizabeth as her heir on 6 November 1558,[43] and Elizabeth became queen when Mary died on 17 November.[44] \\n\\nElizabeth became queen at the age of 25, and declared her intentions to her council and other peers who had come to Hatfield to swear allegiance. The speech contains the first record of her adoption of the medieval political theology of the sovereign\\'s \"two bodies\": the body natural and the body politic:[45]\\n\\n    My lords, the law of nature moves me to sorrow for my sister; the burden that is fallen upon me makes me amazed, and yet, considering I am God\\'s creature, ordained to obey His appointment, I will thereto yield, desiring from the bottom of my heart that I may have assistance of His grace to be the minister of His heavenly will in this office now committed to me. And as I am but one body naturally considered, though by His permission a body politic to govern, so shall I desire you all ... to be assistant to me, that I with my ruling and you with your service may make a good account to Almighty God and leave some comfort to our posterity on earth. I mean to direct all my actions by good advice and' metadata={'source': 'hello.txt'}\n"
     ]
    }
   ],
   "source": [
    "response = vector_index.similarity_search(\n",
    "    \"tell me about queen elizabeth\"\n",
    ")\n",
    "print(response[0])"
   ]
  },
  {
   "cell_type": "code",
   "execution_count": 21,
   "metadata": {},
   "outputs": [
    {
     "name": "stderr",
     "output_type": "stream",
     "text": [
      "/home/asura/.local/lib/python3.10/site-packages/langchain_core/_api/deprecation.py:119: LangChainDeprecationWarning: The method `Chain.run` was deprecated in langchain 0.1.0 and will be removed in 0.3.0. Use invoke instead.\n",
      "  warn_deprecated(\n"
     ]
    },
    {
     "data": {
      "text/plain": [
       "'{ \"text\": \"Queen Elizabeth I of England was born on September 7, 1533.\" }'"
      ]
     },
     "execution_count": 21,
     "metadata": {},
     "output_type": "execute_result"
    }
   ],
   "source": [
    "from langchain.chains import RetrievalQA\n",
    "\n",
    "vector_qa = RetrievalQA.from_chain_type(\n",
    "    llm,\n",
    "    chain_type=\"stuff\",\n",
    "    retriever=vector_index.as_retriever()\n",
    ")\n",
    "vector_qa.run(\n",
    "    \"when was queen elizath born \"\n",
    ")"
   ]
  },
  {
   "cell_type": "code",
   "execution_count": 22,
   "metadata": {},
   "outputs": [
    {
     "data": {
      "text/plain": [
       "'{ \"Elizabeth I (7 September 1533 – 24 March 1603)[a] was Queen of England and Ireland from 17 November 1558 until her death in 1603.\" \\n\\n    \\n\\n\\n\\n\\n\\n    \\n\\n\\n\\n\\n\\n    \\n\\n\\n\\n\\n\\n    \\n\\n\\n\\n\\n\\n    \\n\\n\\n\\n\\n\\n    \\n\\n\\n\\n\\n\\n    \\n\\n\\n\\n\\n\\n    \\n\\n\\n\\n\\n\\n    \\n\\n\\n\\n\\n\\n    \\n\\n\\n\\n\\n\\n'"
      ]
     },
     "execution_count": 22,
     "metadata": {},
     "output_type": "execute_result"
    }
   ],
   "source": [
    "vector_qa.run(\n",
    "    \"when did elizabeth become queen\"\n",
    ")"
   ]
  },
  {
   "cell_type": "code",
   "execution_count": 23,
   "metadata": {},
   "outputs": [
    {
     "data": {
      "text/plain": [
       "'{ }'"
      ]
     },
     "execution_count": 23,
     "metadata": {},
     "output_type": "execute_result"
    }
   ],
   "source": [
    "vector_qa.run(\n",
    "    \"what is google\"\n",
    ")"
   ]
  },
  {
   "cell_type": "code",
   "execution_count": 24,
   "metadata": {},
   "outputs": [
    {
     "data": {
      "text/plain": [
       "'{ }'"
      ]
     },
     "execution_count": 24,
     "metadata": {},
     "output_type": "execute_result"
    }
   ],
   "source": [
    "vector_qa.run(\"Tell me about Queeen Elizabeth.\")"
   ]
  }
 ],
 "metadata": {
  "kernelspec": {
   "display_name": "Python 3",
   "language": "python",
   "name": "python3"
  },
  "language_info": {
   "codemirror_mode": {
    "name": "ipython",
    "version": 3
   },
   "file_extension": ".py",
   "mimetype": "text/x-python",
   "name": "python",
   "nbconvert_exporter": "python",
   "pygments_lexer": "ipython3",
   "version": "3.10.12"
  }
 },
 "nbformat": 4,
 "nbformat_minor": 2
}
